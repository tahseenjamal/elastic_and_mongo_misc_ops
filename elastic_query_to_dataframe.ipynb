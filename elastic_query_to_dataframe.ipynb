{
 "cells": [
  {
   "cell_type": "code",
   "execution_count": 5,
   "id": "2568a3fc",
   "metadata": {},
   "outputs": [],
   "source": [
    "import requests\n",
    "import pandas as pd, json_normalize"
   ]
  },
  {
   "cell_type": "code",
   "execution_count": null,
   "id": "a281d5f5-8f99-40d5-9efe-7708407d6acd",
   "metadata": {},
   "outputs": [],
   "source": [
    "headers = {'Content-Type': 'application/json'}"
   ]
  },
  {
   "cell_type": "code",
   "execution_count": null,
   "id": "8fb9405d-25fa-4e37-af60-35ee5654785d",
   "metadata": {},
   "outputs": [],
   "source": [
    "host  = ''\n",
    "port = ''\n",
    "user = ''\n",
    "password = ''"
   ]
  },
  {
   "cell_type": "code",
   "execution_count": null,
   "id": "d5ff9175-ac55-4e00-9fcb-885328498bca",
   "metadata": {},
   "outputs": [],
   "source": [
    "# use wild cards as needed myindex* or error_log*\n",
    "index = ''\n",
    "\n",
    "# per request how many records you want to fetch, where 10000 is maximum / fetch\n",
    "size = 10000\n",
    "\n",
    "# fields that you want to the fetch to be limited to. There might be many fields and you only\n",
    "# want to fetch one field, so it would be good to define it to reduce data load\n",
    "fields = ['message']"
   ]
  },
  {
   "cell_type": "code",
   "execution_count": null,
   "id": "e6f2c074-4c95-49a0-8144-419a4e2ccdae",
   "metadata": {},
   "outputs": [],
   "source": [
    "# scroll=1m is a timeout as 1 milliseconds\n",
    "first_call_url = f'http://{user}:{password}@{host}:{port}/{index}/_search?scroll=1m'"
   ]
  },
  {
   "cell_type": "code",
   "execution_count": null,
   "id": "c2fce03b-7066-4ac8-a0b2-c2db8db7d48e",
   "metadata": {},
   "outputs": [],
   "source": [
    "# all subsequent calls after the first call would use this URL to paginate\n",
    "subsequent_call_url = f'http://{user}:{password}@{host}:{port}/_search/scroll/'"
   ]
  },
  {
   "cell_type": "code",
   "execution_count": 246,
   "id": "c499cf55",
   "metadata": {},
   "outputs": [],
   "source": [
    "first_call_url_payload = {\n",
    "    \"size\": 10000,\n",
    "    \"query\": { \n",
    "        \"match_all\": {\n",
    "            \n",
    "        } \n",
    "    },\n",
    "    {\n",
    "      \"range\": {\n",
    "        \"@timestamp\": {\n",
    "          \"gte\": \"YYYY-MM-DDTHH:MM:SS.000Z\",\n",
    "          \"lte\": \"YYYY-MM-DDTHH:MM:SS.000Z\",\n",
    "          \"format\": \"strict_date_optional_time\"\n",
    "        }\n",
    "      }\n",
    "    }\n",
    "    \"_source\": [fields]\n",
    "}"
   ]
  },
  {
   "cell_type": "code",
   "execution_count": 247,
   "id": "b7c92910",
   "metadata": {},
   "outputs": [],
   "source": [
    "# This is the first request\n",
    "res = requests.post(first_call_url, json=first_call_url_payload, headers=headers)"
   ]
  },
  {
   "cell_type": "code",
   "execution_count": 248,
   "id": "4cd9de7d-a662-4d3c-9fe5-d28bea7e044c",
   "metadata": {},
   "outputs": [],
   "source": [
    "# This has the result document that we want to transform into a dataframe for easy operations\n",
    "query_data = res.json()['hits']['hits']\n",
    "\n",
    "# This has the scroll id for the next call so that we fetch next batch of data\n",
    "scroll_id = res.json()['_scroll_id']"
   ]
  },
  {
   "cell_type": "code",
   "execution_count": 249,
   "id": "82d408e1-8d9f-4368-8def-fbb68a89624a",
   "metadata": {},
   "outputs": [],
   "source": [
    "# Can use json_normalize instead of this loop options \n",
    "df = pd.DataFrame([ x['_source'] for x in query_data])"
   ]
  },
  {
   "cell_type": "code",
   "execution_count": 251,
   "id": "05e9d390-7afe-44a4-a281-2034c6ca9e1d",
   "metadata": {},
   "outputs": [],
   "source": [
    "# preparing payload for next call\n",
    "scroll_payload = { 'scroll': '5s', 'scroll_id': scroll_id }"
   ]
  },
  {
   "cell_type": "code",
   "execution_count": 252,
   "id": "9038ee46-080f-4675-b3e0-6cfe4f41f7b0",
   "metadata": {},
   "outputs": [],
   "source": [
    "$# keep looping until in response there is data\n",
    "while data:\n",
    "    res = requests.post(next_call_url, json=scroll_payload, headers=headers)\n",
    "    data = res.json()['hits']['hits']\n",
    "    tmp = pd.DataFrame([ x['_source'] for x in res.json()['hits']['hits']])\n",
    "\n",
    "    # concatinating the data \n",
    "    df = pd.concat([df, tmp])\n",
    "    scroll_id = res.json()['_scroll_id']\n",
    "    payload = { 'scroll': '1m', 'scroll_id': scroll_id }"
   ]
  },
  {
   "cell_type": "code",
   "execution_count": null,
   "id": "bbc68533-2d3a-4876-9189-2a4da093ef6f",
   "metadata": {},
   "outputs": [],
   "source": [
    "# this dataframe frame has entire data\n",
    "df\n",
    "\n",
    "# if your dataframe has a single column name messge and it has text string with comma separated\n",
    "# values and you have to create columns out of it, you can do something like this\n",
    "\n",
    "df[['a', 'b', 'c']] = df.message.str.split(',',expand=True)"
   ]
  }
 ],
 "metadata": {
  "kernelspec": {
   "display_name": "Python 3 (ipykernel)",
   "language": "python",
   "name": "python3"
  },
  "language_info": {
   "codemirror_mode": {
    "name": "ipython",
    "version": 3
   },
   "file_extension": ".py",
   "mimetype": "text/x-python",
   "name": "python",
   "nbconvert_exporter": "python",
   "pygments_lexer": "ipython3",
   "version": "3.11.4"
  }
 },
 "nbformat": 4,
 "nbformat_minor": 5
}
